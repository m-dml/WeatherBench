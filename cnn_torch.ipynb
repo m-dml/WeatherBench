{
 "cells": [
  {
   "cell_type": "markdown",
   "metadata": {},
   "source": [
    "## Setup"
   ]
  },
  {
   "cell_type": "code",
   "execution_count": 4,
   "metadata": {},
   "outputs": [],
   "source": [
    "#imports\n",
    "import numpy as np\n",
    "import xarray as xr\n",
    "import torch\n",
    "from src.train_nn_pytorch import Dataset, init_torch_device\n",
    "from torch.utils.data import RandomSampler\n",
    "\n",
    "#directories\n",
    "datadir = '/gpfs/work/nonnenma/data/forecast_predictability/weatherbench/5_625deg/'\n",
    "res_dir = '/gpfs/work/nonnenma/results/forecast_predictability/weatherbench/5_625deg/'"
   ]
  },
  {
   "cell_type": "markdown",
   "metadata": {},
   "source": [
    "## Define options"
   ]
  },
  {
   "cell_type": "code",
   "execution_count": 18,
   "metadata": {},
   "outputs": [],
   "source": [
    "lead_time = 3 * 24  # hours in the future for predictions\n",
    "batch_size = 32\n",
    "\n",
    "train_years = ('1979', '2015')\n",
    "valid_years = ('2016', '2016')\n",
    "test_years = ('2017', '2018')\n",
    "\n",
    "var_dict =  {'geopotential': ('z', [100, 200, 500, 850, 1000]), \n",
    "             'temperature': ('t', [100, 200, 500, 850, 1000]), \n",
    "             'u_component_of_wind': ('u', [100, 200, 500, 850, 1000]), \n",
    "             'v_component_of_wind': ('v', [100, 200, 500, 850, 1000]), \n",
    "             'constants': ['lsm','orography','lat2d']}"
   ]
  },
  {
   "cell_type": "code",
   "execution_count": 6,
   "metadata": {},
   "outputs": [
    {
     "name": "stdout",
     "output_type": "stream",
     "text": [
      "CUDA not available\n"
     ]
    }
   ],
   "source": [
    "device = init_torch_device()"
   ]
  },
  {
   "cell_type": "markdown",
   "metadata": {},
   "source": [
    "## Load data"
   ]
  },
  {
   "cell_type": "code",
   "execution_count": null,
   "metadata": {},
   "outputs": [],
   "source": [
    "ds = xr.merge(\n",
    "            [xr.open_mfdataset(f'{datadir}/{var}/*.nc', combine='by_coords')\n",
    "             for var in var_dict.keys()],\n",
    "            fill_value=0  # For the 'tisr' NaNs\n",
    "        )"
   ]
  },
  {
   "cell_type": "code",
   "execution_count": 19,
   "metadata": {},
   "outputs": [],
   "source": [
    "ds_train = ds.sel(time=slice(*train_years))\n",
    "ds_valid = ds.sel(time=slice(*valid_years))\n",
    "ds_test = ds.sel(time=slice(*test_years))"
   ]
  },
  {
   "cell_type": "code",
   "execution_count": null,
   "metadata": {},
   "outputs": [],
   "source": []
  }
 ],
 "metadata": {
  "kernelspec": {
   "display_name": "wbtorch",
   "language": "python",
   "name": "wbtorch"
  },
  "language_info": {
   "codemirror_mode": {
    "name": "ipython",
    "version": 3
   },
   "file_extension": ".py",
   "mimetype": "text/x-python",
   "name": "python",
   "nbconvert_exporter": "python",
   "pygments_lexer": "ipython3",
   "version": "3.7.6"
  }
 },
 "nbformat": 4,
 "nbformat_minor": 2
}
